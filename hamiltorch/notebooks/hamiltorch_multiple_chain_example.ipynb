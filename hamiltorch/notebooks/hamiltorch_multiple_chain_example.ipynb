{
 "cells": [
  {
   "cell_type": "markdown",
   "metadata": {},
   "source": [
    "### Tutorial in hamiltorch for Running with Multiple Chains"
   ]
  },
  {
   "cell_type": "code",
   "execution_count": 1,
   "metadata": {},
   "outputs": [],
   "source": [
    "import torch\n",
    "import hamiltorch\n",
    "import matplotlib.pyplot as plt\n",
    "%matplotlib inline"
   ]
  },
  {
   "cell_type": "code",
   "execution_count": 2,
   "metadata": {},
   "outputs": [
    {
     "name": "stdout",
     "output_type": "stream",
     "text": [
      "0.4.1\n"
     ]
    }
   ],
   "source": [
    "print(hamiltorch.__version__)"
   ]
  },
  {
   "cell_type": "markdown",
   "metadata": {},
   "source": [
    "## Sampling a multivariate Gaussian with multiple chains"
   ]
  },
  {
   "cell_type": "markdown",
   "metadata": {},
   "source": [
    "As per normal, we define our example log probability function:"
   ]
  },
  {
   "cell_type": "code",
   "execution_count": 3,
   "metadata": {},
   "outputs": [],
   "source": [
    "def log_prob(omega):\n",
    "    mean = torch.tensor([0.,0.,0.])\n",
    "    stddev = torch.tensor([.5,1.,2.]) \n",
    "    return torch.distributions.MultivariateNormal(mean, torch.diag(stddev**2)).log_prob(omega).sum()"
   ]
  },
  {
   "cell_type": "code",
   "execution_count": 4,
   "metadata": {},
   "outputs": [],
   "source": [
    "# Set up the HMC parameters\n",
    "N = 400\n",
    "step_size = .3\n",
    "L = 5"
   ]
  },
  {
   "cell_type": "markdown",
   "metadata": {},
   "source": [
    "### Multiple Chains"
   ]
  },
  {
   "cell_type": "markdown",
   "metadata": {},
   "source": [
    "In order to sample using multiple chains, we need to define a `chain` using the `hamiltorch.util.setup_chain` function. This function takes as arguments:\n",
    "* `sampler`: This is the sampler function to call. For example, here I use the standard sampler from hamiltorch `hamiltorch.sample`.\n",
    "* `prior`: To initialize the chains from different starting points, we need to define a `prior` function to sample the initial parameters for each chain.\n",
    "* `kwargs`: A dictionary of key-word arguments for the `sampler`. In this example we are using the `kwargs` for `hamiltorch.sample`. Note that `params_init` is taken care of via the prior and therefore this ought to be left out of `kwargs`."
   ]
  },
  {
   "cell_type": "code",
   "execution_count": 5,
   "metadata": {},
   "outputs": [],
   "source": [
    "kwargs = {'log_prob_func': log_prob, 'num_samples':N, 'step_size':step_size, 'num_steps_per_sample': L, 'verbose': True}\n",
    "num_workers = 4\n",
    "seeds = torch.arange(8) # corresponding random seeds to the 4 workers\n",
    "prior = lambda : 0.1 * torch.randn(3) # Define a Gaussian prior to sample from\n",
    "chain = hamiltorch.util.setup_chain(hamiltorch.sample, prior, kwargs)"
   ]
  },
  {
   "cell_type": "markdown",
   "metadata": {},
   "source": [
    "### To run multiple chains\n",
    "\n",
    "The function `hamiltorch.util.multi_chain` takes the `chain` as an argument as well as the number of workers and the corresponding list of seeds. "
   ]
  },
  {
   "cell_type": "markdown",
   "metadata": {},
   "source": [
    "##### Parallel\n",
    "Depending on your hardware, it might be faster to run the chains in parallel. If so, set `parallel=True` as shown here:"
   ]
  },
  {
   "cell_type": "code",
   "execution_count": 6,
   "metadata": {},
   "outputs": [
    {
     "name": "stdout",
     "output_type": "stream",
     "text": [
      "CPU times: user 50 s, sys: 4min 3s, total: 4min 53s\n",
      "Wall time: 29.9 s\n"
     ]
    }
   ],
   "source": [
    "%%time\n",
    "parallel=True\n",
    "params_hmc_par = hamiltorch.util.multi_chain(chain, num_workers, seeds, parallel=parallel)"
   ]
  },
  {
   "cell_type": "markdown",
   "metadata": {},
   "source": [
    "##### Serial\n",
    "To run in series set `parallel=False` as shown here:"
   ]
  },
  {
   "cell_type": "code",
   "execution_count": 7,
   "metadata": {},
   "outputs": [
    {
     "name": "stdout",
     "output_type": "stream",
     "text": [
      "CPU times: user 1min 12s, sys: 1.94 s, total: 1min 14s\n",
      "Wall time: 12.9 s\n"
     ]
    }
   ],
   "source": [
    "%%time\n",
    "parallel=False\n",
    "params_hmc_ser = hamiltorch.util.multi_chain(chain, num_workers, seeds, parallel=parallel)"
   ]
  },
  {
   "cell_type": "markdown",
   "metadata": {},
   "source": [
    "##### Note:"
   ]
  },
  {
   "cell_type": "markdown",
   "metadata": {},
   "source": [
    "It is likely that there are more efficient ways of running multiple chains, but for now it seems a useful feature to add in its version. These results are on a mac. When I ran on a Linux machine I saw that it was possible to get a 50% speed up with `parallel=True`. This was not with extensive experimentation"
   ]
  },
  {
   "cell_type": "code",
   "execution_count": null,
   "metadata": {},
   "outputs": [],
   "source": []
  }
 ],
 "metadata": {
  "kernelspec": {
   "display_name": "Python 3 (ipykernel)",
   "language": "python",
   "name": "python3"
  },
  "language_info": {
   "codemirror_mode": {
    "name": "ipython",
    "version": 3
   },
   "file_extension": ".py",
   "mimetype": "text/x-python",
   "name": "python",
   "nbconvert_exporter": "python",
   "pygments_lexer": "ipython3",
   "version": "3.8.8"
  }
 },
 "nbformat": 4,
 "nbformat_minor": 2
}
