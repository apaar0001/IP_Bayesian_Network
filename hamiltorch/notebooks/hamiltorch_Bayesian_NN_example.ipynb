{
 "cells": [
  {
   "cell_type": "code",
   "execution_count": null,
   "metadata": {},
   "outputs": [
    {
     "ename": "",
     "evalue": "",
     "output_type": "error",
     "traceback": [
      "\u001b[1;31mThe kernel failed to start as 'TypeAliasType' could not be imported from '/home/iiitd/.local/lib/python3.10/site-packages/typing_extensions.py'.\n",
      "\u001b[1;31mClick <a href='https://aka.ms/kernelFailuresModuleImportErrFromFile'>here</a> for more info."
     ]
    }
   ],
   "source": [
    "import torch\n",
    "import hamiltorch\n",
    "import matplotlib.pyplot as plt\n",
    "\n",
    "import torch.nn as nn\n",
    "import torch.nn.functional as F\n",
    "\n",
    "%matplotlib inline"
   ]
  },
  {
   "cell_type": "code",
   "execution_count": null,
   "metadata": {},
   "outputs": [
    {
     "ename": "",
     "evalue": "",
     "output_type": "error",
     "traceback": [
      "\u001b[1;31mThe kernel failed to start as 'TypeAliasType' could not be imported from '/home/iiitd/.local/lib/python3.10/site-packages/typing_extensions.py'.\n",
      "\u001b[1;31mClick <a href='https://aka.ms/kernelFailuresModuleImportErrFromFile'>here</a> for more info."
     ]
    }
   ],
   "source": [
    "hamiltorch.set_random_seed(123)\n",
    "device = 'cpu'#torch.device('cuda' if torch.cuda.is_available() else 'cpu')"
   ]
  },
  {
   "cell_type": "markdown",
   "metadata": {},
   "source": [
    "## Logistic Regression\n",
    "* We use a `nn.Module` structure for the logistic regression task"
   ]
  },
  {
   "cell_type": "code",
   "execution_count": null,
   "metadata": {},
   "outputs": [
    {
     "ename": "",
     "evalue": "",
     "output_type": "error",
     "traceback": [
      "\u001b[1;31mThe kernel failed to start as 'TypeAliasType' could not be imported from '/home/iiitd/.local/lib/python3.10/site-packages/typing_extensions.py'.\n",
      "\u001b[1;31mClick <a href='https://aka.ms/kernelFailuresModuleImportErrFromFile'>here</a> for more info."
     ]
    }
   ],
   "source": [
    "class Net(nn.Module):\n",
    "\n",
    "    def __init__(self, layer_sizes, loss = 'multi_class', bias=True):\n",
    "        super(Net, self).__init__()\n",
    "        self.layer_sizes = layer_sizes\n",
    "        self.layer_list = []\n",
    "        self.loss = loss\n",
    "        self.bias = bias\n",
    "        self.l1 = nn.Linear(layer_sizes[0], layer_sizes[1],bias = self.bias)\n",
    "\n",
    "    def forward(self, x):\n",
    "        x = self.l1(x)\n",
    "\n",
    "        return x\n",
    "\n",
    "layer_sizes = [4,3]\n",
    "net = Net(layer_sizes)\n",
    "    \n",
    "\n",
    "print(net)"
   ]
  },
  {
   "cell_type": "markdown",
   "metadata": {},
   "source": [
    "### Iris data"
   ]
  },
  {
   "cell_type": "code",
   "execution_count": null,
   "metadata": {},
   "outputs": [
    {
     "ename": "",
     "evalue": "",
     "output_type": "error",
     "traceback": [
      "\u001b[1;31mThe kernel failed to start as 'TypeAliasType' could not be imported from '/home/iiitd/.local/lib/python3.10/site-packages/typing_extensions.py'.\n",
      "\u001b[1;31mClick <a href='https://aka.ms/kernelFailuresModuleImportErrFromFile'>here</a> for more info."
     ]
    }
   ],
   "source": [
    "from sklearn.datasets import load_iris\n",
    "import numpy as np\n",
    "np.random.seed(0)\n",
    "data = load_iris()\n",
    "x_ = data['data']\n",
    "y_ = data['target']\n",
    "N_tr = 10#50\n",
    "N_val = 140\n",
    "a = np.arange(x_.shape[0])\n",
    "train_index = np.random.choice(a, size = N_tr, replace = False)\n",
    "val_index = np.delete(a, train_index, axis=0)\n",
    "x_train = x_[train_index]\n",
    "y_train = y_[train_index]\n",
    "x_val = x_[val_index][:]\n",
    "y_val = y_[val_index][:]\n",
    "x_m = x_train.mean(0)\n",
    "x_s = x_train.std(0)\n",
    "x_train = (x_train-x_m)/ x_s\n",
    "x_val = (x_val-x_m)/ x_s\n",
    "D_in = x_train.shape[1]\n",
    "x_train = torch.FloatTensor(x_train)\n",
    "y_train = torch.FloatTensor(y_train)\n",
    "x_val = torch.FloatTensor(x_val)\n",
    "y_val = torch.FloatTensor(y_val)\n",
    "plt.scatter(x_train.numpy()[:,0],y_train.numpy())\n",
    "    \n",
    "x_train = x_train.to(device)\n",
    "y_train = y_train.to(device)\n",
    "x_val = x_val.to(device)\n",
    "y_val = y_val.to(device)"
   ]
  },
  {
   "cell_type": "code",
   "execution_count": null,
   "metadata": {},
   "outputs": [
    {
     "ename": "",
     "evalue": "",
     "output_type": "error",
     "traceback": [
      "\u001b[1;31mThe kernel failed to start as 'TypeAliasType' could not be imported from '/home/iiitd/.local/lib/python3.10/site-packages/typing_extensions.py'.\n",
      "\u001b[1;31mClick <a href='https://aka.ms/kernelFailuresModuleImportErrFromFile'>here</a> for more info."
     ]
    }
   ],
   "source": [
    "## Set hyperparameters for network\n",
    "\n",
    "tau_list = []\n",
    "tau = 1.#/100. # iris 1/10\n",
    "for w in net.parameters():\n",
    "    tau_list.append(tau)\n",
    "tau_list = torch.tensor(tau_list).to(device)"
   ]
  },
  {
   "cell_type": "markdown",
   "metadata": {},
   "source": [
    "## HMC"
   ]
  },
  {
   "cell_type": "code",
   "execution_count": null,
   "metadata": {},
   "outputs": [
    {
     "ename": "",
     "evalue": "",
     "output_type": "error",
     "traceback": [
      "\u001b[1;31mThe kernel failed to start as 'TypeAliasType' could not be imported from '/home/iiitd/.local/lib/python3.10/site-packages/typing_extensions.py'.\n",
      "\u001b[1;31mClick <a href='https://aka.ms/kernelFailuresModuleImportErrFromFile'>here</a> for more info."
     ]
    }
   ],
   "source": [
    "hamiltorch.set_random_seed(123)\n",
    "net = Net(layer_sizes)\n",
    "params_init = hamiltorch.util.flatten(net).to(device).clone()\n",
    "\n",
    "step_size = 0.1 \n",
    "num_samples = 300\n",
    "L = 20\n",
    "tau_out = 1.\n",
    "\n",
    "params_hmc = hamiltorch.sample_model(net, x_train, y_train, params_init=params_init, num_samples=num_samples,\n",
    "                               step_size=step_size, num_steps_per_sample=L,tau_out=tau_out,tau_list=tau_list)\n"
   ]
  },
  {
   "cell_type": "code",
   "execution_count": null,
   "metadata": {},
   "outputs": [
    {
     "ename": "",
     "evalue": "",
     "output_type": "error",
     "traceback": [
      "\u001b[1;31mThe kernel failed to start as 'TypeAliasType' could not be imported from '/home/iiitd/.local/lib/python3.10/site-packages/typing_extensions.py'.\n",
      "\u001b[1;31mClick <a href='https://aka.ms/kernelFailuresModuleImportErrFromFile'>here</a> for more info."
     ]
    }
   ],
   "source": [
    "%time pred_list, log_prob_list = hamiltorch.predict_model(net, x=x_val, y=y_val, samples=params_hmc[:], model_loss='multi_class_linear_output', tau_out=1., tau_list=tau_list)\n",
    "_, pred = torch.max(pred_list, 2)\n",
    "acc = torch.zeros( len(pred_list)-1)\n",
    "nll = torch.zeros( len(pred_list)-1)\n",
    "ensemble_proba = F.softmax(pred_list[0], dim=-1)\n",
    "for s in range(1,len(pred_list)):\n",
    "    _, pred = torch.max(pred_list[:s].mean(0), -1)\n",
    "    acc[s-1] = (pred.float() == y_val.flatten()).sum().float()/y_val.shape[0]\n",
    "    ensemble_proba += F.softmax(pred_list[s], dim=-1)\n",
    "    nll[s-1] = F.nll_loss(torch.log(ensemble_proba.cpu()/(s+1)), y_val[:].long().cpu().flatten(), reduction='mean')"
   ]
  },
  {
   "cell_type": "code",
   "execution_count": null,
   "metadata": {},
   "outputs": [
    {
     "ename": "",
     "evalue": "",
     "output_type": "error",
     "traceback": [
      "\u001b[1;31mThe kernel failed to start as 'TypeAliasType' could not be imported from '/home/iiitd/.local/lib/python3.10/site-packages/typing_extensions.py'.\n",
      "\u001b[1;31mClick <a href='https://aka.ms/kernelFailuresModuleImportErrFromFile'>here</a> for more info."
     ]
    }
   ],
   "source": [
    "fs = 20\n",
    "plt.figure(figsize=(10,5))\n",
    "plt.plot(acc)\n",
    "plt.grid()\n",
    "# plt.xlim(0,3000)\n",
    "plt.xlabel('Iteration number',fontsize=fs)\n",
    "plt.ylabel('Sample accuracy',fontsize=fs)\n",
    "plt.tick_params(labelsize=15)\n",
    "# plt.savefig('mnist_acc_100_training.png')\n",
    "plt.show()"
   ]
  },
  {
   "cell_type": "code",
   "execution_count": null,
   "metadata": {},
   "outputs": [
    {
     "ename": "",
     "evalue": "",
     "output_type": "error",
     "traceback": [
      "\u001b[1;31mThe kernel failed to start as 'TypeAliasType' could not be imported from '/home/iiitd/.local/lib/python3.10/site-packages/typing_extensions.py'.\n",
      "\u001b[1;31mClick <a href='https://aka.ms/kernelFailuresModuleImportErrFromFile'>here</a> for more info."
     ]
    }
   ],
   "source": [
    "fs = 20\n",
    "plt.figure(figsize=(10,5))\n",
    "plt.plot(nll)\n",
    "plt.grid()\n",
    "# plt.xlim(0,3000)\n",
    "plt.xlabel('Iteration number',fontsize=fs)\n",
    "plt.ylabel('Negative Log-Likelihood',fontsize=fs)\n",
    "plt.tick_params(labelsize=15)\n",
    "# plt.savefig('mnist_acc_100_training.png')\n",
    "plt.show()"
   ]
  },
  {
   "cell_type": "markdown",
   "metadata": {},
   "source": [
    "## Implicit RMHMC\n",
    "* Initialised from HMC"
   ]
  },
  {
   "cell_type": "code",
   "execution_count": null,
   "metadata": {},
   "outputs": [
    {
     "ename": "",
     "evalue": "",
     "output_type": "error",
     "traceback": [
      "\u001b[1;31mThe kernel failed to start as 'TypeAliasType' could not be imported from '/home/iiitd/.local/lib/python3.10/site-packages/typing_extensions.py'.\n",
      "\u001b[1;31mClick <a href='https://aka.ms/kernelFailuresModuleImportErrFromFile'>here</a> for more info."
     ]
    }
   ],
   "source": [
    "hamiltorch.set_random_seed(123)\n",
    "net = Net(layer_sizes)\n",
    "params_init = hamiltorch.util.flatten(net).to(device).clone()\n",
    "params_init.shape\n",
    "# params_init = params_hmc[-100].clone()\n",
    "print('Parameter size: ',params_init.shape[0])\n",
    "\n",
    "hamiltorch.set_random_seed(123)\n",
    "threshold = 1e-3\n",
    "step_size = 0.1 #0.15\n",
    "L = 20 #10\n",
    "num_samples = 300#100\n",
    "metric = hamiltorch.Metric.HESSIAN\n",
    "tau_out=1.\n",
    "softabs_const=10**6\n",
    "\n",
    "normalizing_const=1.\n",
    "\n",
    "params_i_rmhmc =hamiltorch.sample_model(net, x_train, y_train, params_init=params_init, num_samples=num_samples,\n",
    "                                   sampler=hamiltorch.Sampler.RMHMC, integrator=hamiltorch.Integrator.IMPLICIT,\n",
    "                                   metric=metric, fixed_point_threshold=threshold, jitter=0.01,\n",
    "                                   num_steps_per_sample=L, step_size=step_size, softabs_const=softabs_const, tau_out=tau_out,\n",
    "                                       tau_list=tau_list,debug=False,normalizing_const=normalizing_const)\n"
   ]
  },
  {
   "cell_type": "code",
   "execution_count": null,
   "metadata": {},
   "outputs": [
    {
     "ename": "",
     "evalue": "",
     "output_type": "error",
     "traceback": [
      "\u001b[1;31mThe kernel failed to start as 'TypeAliasType' could not be imported from '/home/iiitd/.local/lib/python3.10/site-packages/typing_extensions.py'.\n",
      "\u001b[1;31mClick <a href='https://aka.ms/kernelFailuresModuleImportErrFromFile'>here</a> for more info."
     ]
    }
   ],
   "source": [
    "%time pred_list, log_prob_list = hamiltorch.predict_model(net, x=x_val, y=y_val, samples=params_i_rmhmc, model_loss='multi_class_linear_output', tau_out=1., tau_list=tau_list)\n",
    "_, pred = torch.max(pred_list, 2)\n",
    "acc_i = torch.zeros( len(pred_list)-1)\n",
    "nll_i = torch.zeros( len(pred_list)-1)\n",
    "ensemble_proba = F.softmax(pred_list[0], dim=-1)\n",
    "for s in range(1,len(pred_list)):\n",
    "    _, pred = torch.max(pred_list[:s].mean(0), -1)\n",
    "    acc_i[s-1] = (pred.float() == y_val.flatten()).sum().float()/y_val.shape[0]\n",
    "    ensemble_proba += F.softmax(pred_list[s], dim=-1)\n",
    "    nll_i[s-1] = F.nll_loss(torch.log(ensemble_proba.cpu()/(s+1)), y_val[:].long().cpu().flatten(), reduction='mean')"
   ]
  },
  {
   "cell_type": "code",
   "execution_count": null,
   "metadata": {},
   "outputs": [
    {
     "ename": "",
     "evalue": "",
     "output_type": "error",
     "traceback": [
      "\u001b[1;31mThe kernel failed to start as 'TypeAliasType' could not be imported from '/home/iiitd/.local/lib/python3.10/site-packages/typing_extensions.py'.\n",
      "\u001b[1;31mClick <a href='https://aka.ms/kernelFailuresModuleImportErrFromFile'>here</a> for more info."
     ]
    }
   ],
   "source": [
    "fs = 20\n",
    "plt.figure(figsize=(10,5))\n",
    "plt.plot(acc, label = 'HMC')\n",
    "plt.plot(acc_i, label = 'Implicit RMHMC')\n",
    "plt.grid()\n",
    "# plt.xlim(0,3000)\n",
    "plt.xlabel('Iteration number',fontsize=fs)\n",
    "plt.ylabel('Sample accuracy',fontsize=fs)\n",
    "plt.tick_params(labelsize=15)\n",
    "# plt.xlim([210,300])\n",
    "plt.legend(fontsize=fs)\n",
    "plt.show()"
   ]
  },
  {
   "cell_type": "code",
   "execution_count": null,
   "metadata": {},
   "outputs": [
    {
     "ename": "",
     "evalue": "",
     "output_type": "error",
     "traceback": [
      "\u001b[1;31mThe kernel failed to start as 'TypeAliasType' could not be imported from '/home/iiitd/.local/lib/python3.10/site-packages/typing_extensions.py'.\n",
      "\u001b[1;31mClick <a href='https://aka.ms/kernelFailuresModuleImportErrFromFile'>here</a> for more info."
     ]
    }
   ],
   "source": [
    "fs = 20\n",
    "plt.figure(figsize=(10,5))\n",
    "plt.plot(nll, label = 'HMC')\n",
    "plt.plot(nll_i, label = 'Implicit RMHMC')\n",
    "plt.grid()\n",
    "# plt.xlim(0,3000)\n",
    "plt.xlabel('Iteration number',fontsize=fs)\n",
    "plt.ylabel('Negative Log-Likelihood',fontsize=fs)\n",
    "plt.tick_params(labelsize=15)\n",
    "# plt.savefig('mnist_acc_100_training.png')\n",
    "plt.legend(fontsize=fs)\n",
    "plt.show()"
   ]
  },
  {
   "cell_type": "markdown",
   "metadata": {},
   "source": [
    "## Explicit RMHMC\n",
    "* Initialised from HMC"
   ]
  },
  {
   "cell_type": "code",
   "execution_count": null,
   "metadata": {},
   "outputs": [
    {
     "ename": "",
     "evalue": "",
     "output_type": "error",
     "traceback": [
      "\u001b[1;31mThe kernel failed to start as 'TypeAliasType' could not be imported from '/home/iiitd/.local/lib/python3.10/site-packages/typing_extensions.py'.\n",
      "\u001b[1;31mClick <a href='https://aka.ms/kernelFailuresModuleImportErrFromFile'>here</a> for more info."
     ]
    }
   ],
   "source": [
    "hamiltorch.set_random_seed(123)\n",
    "net = Net(layer_sizes)\n",
    "params_init = hamiltorch.util.flatten(net).to(device).clone()\n",
    "params_init.shape\n",
    "# params_init = params_hmc[-100].clone()\n",
    "print('Parameter size: ',params_init.shape[0])\n",
    "\n",
    "hamiltorch.set_random_seed(123)\n",
    "threshold = 1e-3\n",
    "step_size = 0.1#0.15\n",
    "L = 20 #10\n",
    "num_samples = 300\n",
    "metric = hamiltorch.Metric.HESSIAN\n",
    "tau_out=1.\n",
    "softabs_const=10**6\n",
    "omega=1.\n",
    "\n",
    "params_e_rmhmc = hamiltorch.sample_model(net, x_train, y_train, params_init=params_init, num_samples=num_samples,\n",
    "                                   sampler=hamiltorch.Sampler.RMHMC, integrator=hamiltorch.Integrator.EXPLICIT,\n",
    "                                   metric=metric, fixed_point_threshold=threshold, jitter=0.01,\n",
    "                                   num_steps_per_sample=L, step_size=step_size, explicit_binding_const=omega, \n",
    "                                   softabs_const=softabs_const,tau_out=tau_out,tau_list=tau_list)"
   ]
  },
  {
   "cell_type": "code",
   "execution_count": null,
   "metadata": {},
   "outputs": [
    {
     "ename": "",
     "evalue": "",
     "output_type": "error",
     "traceback": [
      "\u001b[1;31mThe kernel failed to start as 'TypeAliasType' could not be imported from '/home/iiitd/.local/lib/python3.10/site-packages/typing_extensions.py'.\n",
      "\u001b[1;31mClick <a href='https://aka.ms/kernelFailuresModuleImportErrFromFile'>here</a> for more info."
     ]
    }
   ],
   "source": [
    "%time pred_list, log_prob_list = hamiltorch.predict_model(net, x = x_val, y = y_val, samples=params_e_rmhmc, model_loss='multi_class_linear_output', tau_out=1., tau_list=tau_list)\n",
    "_, pred = torch.max(pred_list, 2)\n",
    "acc_e = torch.zeros( len(pred_list)-1)\n",
    "nll_e = torch.zeros( len(pred_list)-1)\n",
    "ensemble_proba = F.softmax(pred_list[0], dim=-1)\n",
    "for s in range(1,len(pred_list)):\n",
    "    _, pred = torch.max(pred_list[:s].mean(0), -1)\n",
    "    acc_e[s-1] = (pred.float() == y_val.flatten()).sum().float()/y_val.shape[0]\n",
    "    ensemble_proba += F.softmax(pred_list[s], dim=-1)\n",
    "    nll_e[s-1] = F.nll_loss(torch.log(ensemble_proba.cpu()/(s+1)), y_val[:].long().cpu().flatten(), reduction='mean')"
   ]
  },
  {
   "cell_type": "code",
   "execution_count": null,
   "metadata": {},
   "outputs": [
    {
     "ename": "",
     "evalue": "",
     "output_type": "error",
     "traceback": [
      "\u001b[1;31mThe kernel failed to start as 'TypeAliasType' could not be imported from '/home/iiitd/.local/lib/python3.10/site-packages/typing_extensions.py'.\n",
      "\u001b[1;31mClick <a href='https://aka.ms/kernelFailuresModuleImportErrFromFile'>here</a> for more info."
     ]
    }
   ],
   "source": [
    "fs = 20\n",
    "plt.figure(figsize=(10,5))\n",
    "plt.plot(acc, label = 'HMC')\n",
    "plt.plot(acc_i, label = 'Implicit RMHMC')\n",
    "plt.plot(acc_e, label = 'Explicit RMHMC')\n",
    "plt.grid()\n",
    "# plt.xlim(0,3000)\n",
    "plt.xlabel('Iteration number',fontsize=fs)\n",
    "plt.ylabel('Sample accuracy',fontsize=fs)\n",
    "plt.tick_params(labelsize=15)\n",
    "# plt.xlim([210,300])\n",
    "plt.legend(fontsize=fs)\n",
    "plt.show()"
   ]
  },
  {
   "cell_type": "code",
   "execution_count": null,
   "metadata": {},
   "outputs": [
    {
     "ename": "",
     "evalue": "",
     "output_type": "error",
     "traceback": [
      "\u001b[1;31mThe kernel failed to start as 'TypeAliasType' could not be imported from '/home/iiitd/.local/lib/python3.10/site-packages/typing_extensions.py'.\n",
      "\u001b[1;31mClick <a href='https://aka.ms/kernelFailuresModuleImportErrFromFile'>here</a> for more info."
     ]
    }
   ],
   "source": [
    "fs = 20\n",
    "plt.figure(figsize=(10,5))\n",
    "plt.plot(nll, label = 'HMC')\n",
    "plt.plot(nll_i, label = 'Implicit RMHMC')\n",
    "plt.plot(nll_e, label = 'Explicit RMHMC')\n",
    "plt.grid()\n",
    "# plt.xlim(0,3000)\n",
    "plt.xlabel('Iteration number',fontsize=fs)\n",
    "plt.ylabel('Negative Log-Likelihood',fontsize=fs)\n",
    "plt.tick_params(labelsize=15)\n",
    "# plt.savefig('mnist_acc_100_training.png')\n",
    "plt.legend(fontsize=fs)\n",
    "plt.show()"
   ]
  },
  {
   "cell_type": "code",
   "execution_count": null,
   "metadata": {},
   "outputs": [
    {
     "ename": "",
     "evalue": "",
     "output_type": "error",
     "traceback": [
      "\u001b[1;31mThe kernel failed to start as 'TypeAliasType' could not be imported from '/home/iiitd/.local/lib/python3.10/site-packages/typing_extensions.py'.\n",
      "\u001b[1;31mClick <a href='https://aka.ms/kernelFailuresModuleImportErrFromFile'>here</a> for more info."
     ]
    }
   ],
   "source": [
    "i=0\n",
    "j=1\n",
    "plt.figure(figsize=(15,5))\n",
    "params_h = torch.stack(params_hmc)\n",
    "params_i = torch.stack(params_i_rmhmc)\n",
    "params_e = torch.stack(params_e_rmhmc)\n",
    "plt.scatter(params_h[:,i].numpy(),params_h[:,j].numpy(),s=25,label='HMC')\n",
    "plt.scatter(params_i[:,i].numpy(),params_i[:,j].numpy(),s=25,label='IRMHMC')\n",
    "plt.scatter(params_e[:,i].numpy(),params_e[:,j].numpy(),s=25,label='ERMHMC')\n",
    "plt.legend()\n",
    "plt.grid()\n",
    "plt.show()"
   ]
  },
  {
   "cell_type": "markdown",
   "metadata": {},
   "source": [
    "### Demonstrating HMC over a CNN\n",
    "\n",
    "* Definitely not optimsed hyperparameters!\n"
   ]
  },
  {
   "cell_type": "code",
   "execution_count": null,
   "metadata": {},
   "outputs": [
    {
     "ename": "",
     "evalue": "",
     "output_type": "error",
     "traceback": [
      "\u001b[1;31mThe kernel failed to start as 'TypeAliasType' could not be imported from '/home/iiitd/.local/lib/python3.10/site-packages/typing_extensions.py'.\n",
      "\u001b[1;31mClick <a href='https://aka.ms/kernelFailuresModuleImportErrFromFile'>here</a> for more info."
     ]
    }
   ],
   "source": [
    "device = torch.device('cuda' if torch.cuda.is_available() else 'cpu')\n",
    "\n",
    "class Net(nn.Module):\n",
    "    \"\"\"ConvNet -> Max_Pool -> RELU -> ConvNet -> Max_Pool -> RELU -> FC -> RELU -> FC -> SOFTMAX\"\"\"\n",
    "    def __init__(self):\n",
    "        super(Net, self).__init__()\n",
    "        self.conv1 = nn.Conv2d(1, 20, 5, 1)\n",
    "        self.conv2 = nn.Conv2d(20, 50, 5, 1)\n",
    "        self.fc1 = nn.Linear(4*4*50, 500)\n",
    "        self.fc2 = nn.Linear(500, 10)\n",
    "\n",
    "    def forward(self, x):\n",
    "        x = F.relu(self.conv1(x))\n",
    "        x = F.max_pool2d(x, 2, 2)\n",
    "        x = F.relu(self.conv2(x))\n",
    "        x = F.max_pool2d(x, 2, 2)\n",
    "        x = x.view(-1, 4*4*50)\n",
    "        x = F.relu(self.fc1(x))\n",
    "        x = self.fc2(x)\n",
    "        return x#torch.softmax(x)\n",
    "#         return F.log_softmax(x, dim=1)\n",
    "net = Net()"
   ]
  },
  {
   "cell_type": "code",
   "execution_count": null,
   "metadata": {},
   "outputs": [
    {
     "ename": "",
     "evalue": "",
     "output_type": "error",
     "traceback": [
      "\u001b[1;31mThe kernel failed to start as 'TypeAliasType' could not be imported from '/home/iiitd/.local/lib/python3.10/site-packages/typing_extensions.py'.\n",
      "\u001b[1;31mClick <a href='https://aka.ms/kernelFailuresModuleImportErrFromFile'>here</a> for more info."
     ]
    }
   ],
   "source": [
    "import torchvision\n",
    "import torchvision.datasets as datasets\n",
    "mnist_trainset = datasets.MNIST(root='../../data', train=True, download=True, transform=None)\n",
    "mnist_testset = datasets.MNIST(root='../../data', train=False, download=True, transform=None)\n",
    "plt.imshow(mnist_trainset.train_data[0].reshape((28,28)))\n",
    "plt.show()\n",
    "D = 784\n",
    "N_tr = 100\n",
    "N_val = 1000\n",
    "\n",
    "\n",
    "x_train = mnist_trainset.train_data[:N_tr].float()/255.\n",
    "x_train = x_train[:,None]\n",
    "y_train = mnist_trainset.train_labels[:N_tr].reshape((-1,1)).float()\n",
    "x_val = mnist_trainset.train_data[N_tr:N_tr+N_val].float()/255.\n",
    "x_val = x_val[:,None]\n",
    "y_val = mnist_trainset.train_labels[N_tr:N_tr+N_val].reshape((-1,1)).float()\n",
    "\n",
    "x_train = x_train.to(device)\n",
    "y_train = y_train.to(device)\n",
    "x_val = x_val.to(device)\n",
    "y_val = y_val.to(device)"
   ]
  },
  {
   "cell_type": "code",
   "execution_count": null,
   "metadata": {},
   "outputs": [
    {
     "ename": "",
     "evalue": "",
     "output_type": "error",
     "traceback": [
      "\u001b[1;31mThe kernel failed to start as 'TypeAliasType' could not be imported from '/home/iiitd/.local/lib/python3.10/site-packages/typing_extensions.py'.\n",
      "\u001b[1;31mClick <a href='https://aka.ms/kernelFailuresModuleImportErrFromFile'>here</a> for more info."
     ]
    }
   ],
   "source": [
    "tau_list = []\n",
    "tau = 10.#./100. # 1/50\n",
    "for w in net.parameters():\n",
    "#     print(w.nelement())\n",
    "#     tau_list.append(tau/w.nelement())\n",
    "    tau_list.append(tau)\n",
    "tau_list = torch.tensor(tau_list).to(device)"
   ]
  },
  {
   "cell_type": "code",
   "execution_count": null,
   "metadata": {},
   "outputs": [
    {
     "ename": "",
     "evalue": "",
     "output_type": "error",
     "traceback": [
      "\u001b[1;31mThe kernel failed to start as 'TypeAliasType' could not be imported from '/home/iiitd/.local/lib/python3.10/site-packages/typing_extensions.py'.\n",
      "\u001b[1;31mClick <a href='https://aka.ms/kernelFailuresModuleImportErrFromFile'>here</a> for more info."
     ]
    }
   ],
   "source": [
    "hamiltorch.set_random_seed(123)\n",
    "net = Net()\n",
    "params_init = hamiltorch.util.flatten(net).to(device).clone()\n",
    "print(params_init.shape)\n",
    "\n",
    "step_size = 0.001#0.01# 0.003#0.002\n",
    "num_samples = 300#2000 # 3000\n",
    "L = 20 #3\n",
    "tau_out = 1.\n",
    "normalizing_const = 1.\n",
    "burn =0 #GPU: 3000\n",
    "\n",
    "params_hmc = hamiltorch.sample_model(net, x_train, y_train, params_init=params_init, model_loss='multi_class_linear_output', num_samples=num_samples, burn = burn,\n",
    "                               step_size=step_size, num_steps_per_sample=L,tau_out=tau_out, tau_list=tau_list, normalizing_const=normalizing_const)\n"
   ]
  },
  {
   "cell_type": "code",
   "execution_count": null,
   "metadata": {},
   "outputs": [
    {
     "ename": "",
     "evalue": "",
     "output_type": "error",
     "traceback": [
      "\u001b[1;31mThe kernel failed to start as 'TypeAliasType' could not be imported from '/home/iiitd/.local/lib/python3.10/site-packages/typing_extensions.py'.\n",
      "\u001b[1;31mClick <a href='https://aka.ms/kernelFailuresModuleImportErrFromFile'>here</a> for more info."
     ]
    }
   ],
   "source": [
    "%time pred_list, log_prob_list = hamiltorch.predict_model(net, x = x_val, y = y_val, samples=params_hmc, model_loss='multi_class_log_softmax_output', tau_out=1., tau_list=tau_list)\n",
    "_, pred = torch.max(pred_list, 2)\n",
    "acc = []\n",
    "acc = torch.zeros( int(len(params_hmc))-1)\n",
    "nll = torch.zeros( int(len(params_hmc))-1)\n",
    "ensemble_proba = F.softmax(pred_list[0], dim=-1)\n",
    "for s in range(1,len(params_hmc)):\n",
    "    _, pred = torch.max(pred_list[:s].mean(0), -1)\n",
    "    acc[s-1] = (pred.float() == y_val.flatten()).sum().float()/y_val.shape[0]\n",
    "    ensemble_proba += F.softmax(pred_list[s], dim=-1)\n",
    "    nll[s-1] = F.nll_loss(torch.log(ensemble_proba.cpu()/(s+1)), y_val[:].long().cpu().flatten(), reduction='mean')"
   ]
  },
  {
   "cell_type": "code",
   "execution_count": null,
   "metadata": {},
   "outputs": [
    {
     "ename": "",
     "evalue": "",
     "output_type": "error",
     "traceback": [
      "\u001b[1;31mThe kernel failed to start as 'TypeAliasType' could not be imported from '/home/iiitd/.local/lib/python3.10/site-packages/typing_extensions.py'.\n",
      "\u001b[1;31mClick <a href='https://aka.ms/kernelFailuresModuleImportErrFromFile'>here</a> for more info."
     ]
    }
   ],
   "source": [
    "fs = 20\n",
    "plt.figure(figsize=(10,5))\n",
    "plt.plot(acc)\n",
    "plt.grid()\n",
    "# plt.xlim(0,3000)\n",
    "plt.xlabel('Iteration number',fontsize=fs)\n",
    "plt.ylabel('Sample accuracy',fontsize=fs)\n",
    "plt.tick_params(labelsize=15)\n",
    "# plt.savefig('mnist_acc_100_training.png')\n",
    "plt.show()"
   ]
  },
  {
   "cell_type": "code",
   "execution_count": null,
   "metadata": {},
   "outputs": [
    {
     "ename": "",
     "evalue": "",
     "output_type": "error",
     "traceback": [
      "\u001b[1;31mThe kernel failed to start as 'TypeAliasType' could not be imported from '/home/iiitd/.local/lib/python3.10/site-packages/typing_extensions.py'.\n",
      "\u001b[1;31mClick <a href='https://aka.ms/kernelFailuresModuleImportErrFromFile'>here</a> for more info."
     ]
    }
   ],
   "source": [
    "fs = 20\n",
    "plt.figure(figsize=(10,5))\n",
    "plt.plot(nll)\n",
    "plt.grid()\n",
    "# plt.xlim(0,3000)\n",
    "plt.xlabel('Iteration number',fontsize=fs)\n",
    "plt.ylabel('Negative Log Likelihood',fontsize=fs)\n",
    "plt.tick_params(labelsize=15)\n",
    "# plt.savefig('mnist_acc_100_training.png')\n",
    "plt.show()"
   ]
  },
  {
   "cell_type": "markdown",
   "metadata": {},
   "source": [
    "## HMC Regression example"
   ]
  },
  {
   "cell_type": "code",
   "execution_count": null,
   "metadata": {},
   "outputs": [
    {
     "ename": "",
     "evalue": "",
     "output_type": "error",
     "traceback": [
      "\u001b[1;31mThe kernel failed to start as 'TypeAliasType' could not be imported from '/home/iiitd/.local/lib/python3.10/site-packages/typing_extensions.py'.\n",
      "\u001b[1;31mClick <a href='https://aka.ms/kernelFailuresModuleImportErrFromFile'>here</a> for more info."
     ]
    }
   ],
   "source": [
    "N_tr = 6\n",
    "N_val = 300\n",
    "\n",
    "\n",
    "x_val = torch.linspace(-5,5,N_val).view(-1,1)\n",
    "y_val = torch.sin(x_val).view(-1,1)\n",
    "\n",
    "x_train = torch.linspace(-3.14,3.14,N_tr).view(-1,1)\n",
    "y_train = torch.sin(x_train).view(-1,1) + torch.randn_like(x_train)*0.1\n",
    "\n",
    "plt.figure(figsize=(10,5))\n",
    "plt.plot(x_train.numpy(),y_train.numpy(),'.',markersize=30, label='x train')\n",
    "plt.plot(x_val.numpy(),y_val.numpy(),'.',markersize=10, label='x test')\n",
    "\n",
    "plt.legend(fontsize=20)\n",
    "plt.show()\n",
    "\n",
    "x_train = x_train.to(device)\n",
    "y_train = y_train.to(device)\n",
    "\n",
    "x_val = x_val.to(device)\n",
    "y_val = y_val.to(device)\n",
    "\n"
   ]
  },
  {
   "cell_type": "code",
   "execution_count": null,
   "metadata": {},
   "outputs": [
    {
     "ename": "",
     "evalue": "",
     "output_type": "error",
     "traceback": [
      "\u001b[1;31mThe kernel failed to start as 'TypeAliasType' could not be imported from '/home/iiitd/.local/lib/python3.10/site-packages/typing_extensions.py'.\n",
      "\u001b[1;31mClick <a href='https://aka.ms/kernelFailuresModuleImportErrFromFile'>here</a> for more info."
     ]
    }
   ],
   "source": [
    "class Net(nn.Module):\n",
    "\n",
    "    def __init__(self, layer_sizes, loss = 'multi_class', bias=True):\n",
    "        super(Net, self).__init__()\n",
    "        self.layer_sizes = layer_sizes\n",
    "        self.layer_list = []\n",
    "        self.loss = loss\n",
    "        self.bias = bias\n",
    "#         for l in range(len(layer_sizes[:-1])):\n",
    "#         self.layer_list.append(\n",
    "        self.l1 = nn.Linear(layer_sizes[0], layer_sizes[1],bias=True)\n",
    "        self.l2 = nn.Linear(layer_sizes[1], layer_sizes[2],bias = self.bias)\n",
    "        self.l3 = nn.Linear(layer_sizes[2], layer_sizes[3],bias = self.bias)\n",
    "#         self.l4 = nn.Linear(layer_sizes[3], layer_sizes[4],bias = self.bias)\n",
    "\n",
    "    def forward(self, x):\n",
    "#         for layer in self.layer_list[:-1]:\n",
    "        x = self.l1(x)\n",
    "        x = torch.relu(x)\n",
    "        x = self.l2(x)\n",
    "        x = torch.relu(x)\n",
    "        x = self.l3(x)\n",
    "        \n",
    "        return x\n",
    "\n",
    "layer_sizes = [1,10,10,1]\n",
    "net = Net(layer_sizes, loss='regression').to(device)\n",
    "\n",
    "params_init = hamiltorch.util.flatten(net).to(device).clone()\n",
    "print('Parameter size: ',params_init.shape[0])"
   ]
  },
  {
   "cell_type": "code",
   "execution_count": null,
   "metadata": {},
   "outputs": [
    {
     "ename": "",
     "evalue": "",
     "output_type": "error",
     "traceback": [
      "\u001b[1;31mThe kernel failed to start as 'TypeAliasType' could not be imported from '/home/iiitd/.local/lib/python3.10/site-packages/typing_extensions.py'.\n",
      "\u001b[1;31mClick <a href='https://aka.ms/kernelFailuresModuleImportErrFromFile'>here</a> for more info."
     ]
    }
   ],
   "source": [
    "tau_list = []\n",
    "tau = 1.\n",
    "for w in net.parameters():\n",
    "    tau_list.append(tau)\n",
    "tau_list = torch.tensor(tau_list).to(device)"
   ]
  },
  {
   "cell_type": "code",
   "execution_count": null,
   "metadata": {},
   "outputs": [
    {
     "ename": "",
     "evalue": "",
     "output_type": "error",
     "traceback": [
      "\u001b[1;31mThe kernel failed to start as 'TypeAliasType' could not be imported from '/home/iiitd/.local/lib/python3.10/site-packages/typing_extensions.py'.\n",
      "\u001b[1;31mClick <a href='https://aka.ms/kernelFailuresModuleImportErrFromFile'>here</a> for more info."
     ]
    }
   ],
   "source": [
    "step_size = 0.00512\n",
    "num_samples = 300#0\n",
    "L = 20\n",
    "tau_out = 100. #10.\n",
    "\n",
    "hamiltorch.set_random_seed(123)\n",
    "net = Net(layer_sizes, loss='regression')\n",
    "params_init = hamiltorch.util.flatten(net).to(device).clone()\n",
    "print('Parameter size: ',params_init.shape[0])\n",
    "\n",
    "params_hmc = hamiltorch.sample_model(net, x_train, y_train, model_loss='regression',params_init=params_init, num_samples=num_samples,\n",
    "                               step_size=step_size, num_steps_per_sample=L,tau_out=tau_out,normalizing_const=N_tr, tau_list=tau_list)\n"
   ]
  },
  {
   "cell_type": "code",
   "execution_count": null,
   "metadata": {},
   "outputs": [
    {
     "ename": "",
     "evalue": "",
     "output_type": "error",
     "traceback": [
      "\u001b[1;31mThe kernel failed to start as 'TypeAliasType' could not be imported from '/home/iiitd/.local/lib/python3.10/site-packages/typing_extensions.py'.\n",
      "\u001b[1;31mClick <a href='https://aka.ms/kernelFailuresModuleImportErrFromFile'>here</a> for more info."
     ]
    }
   ],
   "source": [
    "%time pred_list, log_prob_list = hamiltorch.predict_model(net, x=x_val, y=y_val, model_loss='regression', samples=params_hmc[:], tau_out=tau_out, tau_list=tau_list)\n",
    "\n",
    "print(tau_list[0])\n",
    "print(tau_out)\n",
    "print('\\nExpected validation log probability: {:.2f}'.format(torch.stack(log_prob_list).mean()))\n",
    "print('\\nExpected MSE: {:.2f}'.format(((pred_list.mean(0) - y_val)**2).mean()))"
   ]
  },
  {
   "cell_type": "code",
   "execution_count": null,
   "metadata": {},
   "outputs": [
    {
     "ename": "",
     "evalue": "",
     "output_type": "error",
     "traceback": [
      "\u001b[1;31mThe kernel failed to start as 'TypeAliasType' could not be imported from '/home/iiitd/.local/lib/python3.10/site-packages/typing_extensions.py'.\n",
      "\u001b[1;31mClick <a href='https://aka.ms/kernelFailuresModuleImportErrFromFile'>here</a> for more info."
     ]
    }
   ],
   "source": [
    "burn = 10\n",
    "\n",
    "plt.figure(figsize=(10,5))\n",
    "plt.plot(x_val.cpu().numpy(),pred_list[burn:].cpu().numpy().squeeze().T, 'C0',alpha=0.051)\n",
    "plt.plot(x_val.cpu().numpy(),pred_list.mean(0).cpu().numpy().squeeze().T, 'C1',alpha=0.9)\n",
    "plt.plot(x_val.cpu().numpy(),pred_list.mean(0).cpu().numpy().squeeze().T +pred_list.std(0).cpu().numpy().squeeze().T, 'C1',alpha=0.8,linewidth=3)\n",
    "plt.plot(x_val.cpu().numpy(),pred_list.mean(0).cpu().numpy().squeeze().T -pred_list.std(0).cpu().numpy().squeeze().T, 'C1',alpha=0.8,linewidth=3)\n",
    "\n",
    "plt.plot(x_train.cpu().numpy(),y_train.cpu().numpy(),'.C3',markersize=30, label='x train',alpha=0.6)\n",
    "\n",
    "plt.legend(fontsize=20)\n",
    "plt.ylim([-5,5])\n",
    "plt.show()"
   ]
  },
  {
   "cell_type": "code",
   "execution_count": null,
   "metadata": {},
   "outputs": [
    {
     "ename": "",
     "evalue": "",
     "output_type": "error",
     "traceback": [
      "\u001b[1;31mThe kernel failed to start as 'TypeAliasType' could not be imported from '/home/iiitd/.local/lib/python3.10/site-packages/typing_extensions.py'.\n",
      "\u001b[1;31mClick <a href='https://aka.ms/kernelFailuresModuleImportErrFromFile'>here</a> for more info."
     ]
    }
   ],
   "source": []
  }
 ],
 "metadata": {
  "kernelspec": {
   "display_name": "Python 3",
   "language": "python",
   "name": "python3"
  },
  "language_info": {
   "codemirror_mode": {
    "name": "ipython",
    "version": 3
   },
   "file_extension": ".py",
   "mimetype": "text/x-python",
   "name": "python",
   "nbconvert_exporter": "python",
   "pygments_lexer": "ipython3",
   "version": "3.10.12"
  }
 },
 "nbformat": 4,
 "nbformat_minor": 2
}
