{
 "cells": [
  {
   "cell_type": "code",
   "execution_count": 55,
   "id": "fa524e9b",
   "metadata": {
    "scrolled": true
   },
   "outputs": [
    {
     "name": "stdout",
     "output_type": "stream",
     "text": [
      "Defaulting to user installation because normal site-packages is not writeable\n",
      "Requirement already satisfied: pandas<2.0.0 in /home/iiitd/.local/lib/python3.10/site-packages (1.5.1)\n",
      "Requirement already satisfied: pytz>=2020.1 in /home/iiitd/.local/lib/python3.10/site-packages (from pandas<2.0.0) (2022.6)\n",
      "Requirement already satisfied: numpy>=1.21.0 in /home/iiitd/.local/lib/python3.10/site-packages (from pandas<2.0.0) (1.23.4)\n",
      "Requirement already satisfied: python-dateutil>=2.8.1 in /home/iiitd/.local/lib/python3.10/site-packages (from pandas<2.0.0) (2.8.2)\n",
      "Requirement already satisfied: six>=1.5 in /home/iiitd/.local/lib/python3.10/site-packages (from python-dateutil>=2.8.1->pandas<2.0.0) (1.16.0)\n",
      "Defaulting to user installation because normal site-packages is not writeable\n",
      "Requirement already satisfied: dgb in /home/iiitd/.local/lib/python3.10/site-packages (0.2)\n",
      "Requirement already satisfied: scipy==1.9.3 in /home/iiitd/.local/lib/python3.10/site-packages (from dgb) (1.9.3)\n",
      "Requirement already satisfied: args==0.1.0 in /home/iiitd/.local/lib/python3.10/site-packages (from dgb) (0.1.0)\n",
      "Requirement already satisfied: idna==3.4 in /home/iiitd/.local/lib/python3.10/site-packages (from dgb) (3.4)\n",
      "Requirement already satisfied: clint==0.5.1 in /home/iiitd/.local/lib/python3.10/site-packages (from dgb) (0.5.1)\n",
      "Requirement already satisfied: jmespath==1.0.1 in /home/iiitd/.local/lib/python3.10/site-packages (from dgb) (1.0.1)\n",
      "Requirement already satisfied: requests==2.28.1 in /home/iiitd/.local/lib/python3.10/site-packages (from dgb) (2.28.1)\n",
      "Requirement already satisfied: six==1.16.0 in /home/iiitd/.local/lib/python3.10/site-packages (from dgb) (1.16.0)\n",
      "Requirement already satisfied: urllib3==1.26.12 in /home/iiitd/.local/lib/python3.10/site-packages (from dgb) (1.26.12)\n",
      "Requirement already satisfied: pytz==2022.6 in /home/iiitd/.local/lib/python3.10/site-packages (from dgb) (2022.6)\n",
      "Requirement already satisfied: numpy==1.23.4 in /home/iiitd/.local/lib/python3.10/site-packages (from dgb) (1.23.4)\n",
      "Requirement already satisfied: python-dateutil==2.8.2 in /home/iiitd/.local/lib/python3.10/site-packages (from dgb) (2.8.2)\n",
      "Requirement already satisfied: scikit-learn==1.1.3 in /home/iiitd/.local/lib/python3.10/site-packages (from dgb) (1.1.3)\n",
      "Requirement already satisfied: zenodo-get==1.3.4 in /home/iiitd/.local/lib/python3.10/site-packages (from dgb) (1.3.4)\n",
      "Requirement already satisfied: threadpoolctl==3.1.0 in /home/iiitd/.local/lib/python3.10/site-packages (from dgb) (3.1.0)\n",
      "Requirement already satisfied: wget==3.2 in /home/iiitd/.local/lib/python3.10/site-packages (from dgb) (3.2)\n",
      "Requirement already satisfied: typing-extensions==4.4.0 in /home/iiitd/.local/lib/python3.10/site-packages (from dgb) (4.4.0)\n",
      "Requirement already satisfied: tqdm==4.64.1 in /home/iiitd/.local/lib/python3.10/site-packages (from dgb) (4.64.1)\n",
      "Requirement already satisfied: pandas==1.5.1 in /home/iiitd/.local/lib/python3.10/site-packages (from dgb) (1.5.1)\n",
      "Requirement already satisfied: torch==1.13.0 in /home/iiitd/.local/lib/python3.10/site-packages (from dgb) (1.13.0)\n",
      "Requirement already satisfied: joblib==1.2.0 in /home/iiitd/.local/lib/python3.10/site-packages (from dgb) (1.2.0)\n",
      "Requirement already satisfied: charset-normalizer<3,>=2 in /home/iiitd/.local/lib/python3.10/site-packages (from requests==2.28.1->dgb) (2.1.1)\n",
      "Requirement already satisfied: certifi>=2017.4.17 in /usr/lib/python3/dist-packages (from requests==2.28.1->dgb) (2020.6.20)\n",
      "Requirement already satisfied: nvidia-cudnn-cu11==8.5.0.96 in /home/iiitd/.local/lib/python3.10/site-packages (from torch==1.13.0->dgb) (8.5.0.96)\n",
      "Requirement already satisfied: nvidia-cuda-runtime-cu11==11.7.99 in /home/iiitd/.local/lib/python3.10/site-packages (from torch==1.13.0->dgb) (11.7.99)\n",
      "Requirement already satisfied: nvidia-cuda-nvrtc-cu11==11.7.99 in /home/iiitd/.local/lib/python3.10/site-packages (from torch==1.13.0->dgb) (11.7.99)\n",
      "Requirement already satisfied: nvidia-cublas-cu11==11.10.3.66 in /home/iiitd/.local/lib/python3.10/site-packages (from torch==1.13.0->dgb) (11.10.3.66)\n",
      "Requirement already satisfied: wheel in /usr/lib/python3/dist-packages (from nvidia-cublas-cu11==11.10.3.66->torch==1.13.0->dgb) (0.37.1)\n",
      "Requirement already satisfied: setuptools in /usr/lib/python3/dist-packages (from nvidia-cublas-cu11==11.10.3.66->torch==1.13.0->dgb) (59.6.0)\n",
      "Defaulting to user installation because normal site-packages is not writeable\n",
      "Requirement already satisfied: dgp in /home/iiitd/.local/lib/python3.10/site-packages (0.1.3)\n",
      "Requirement already satisfied: PyYAML in /usr/lib/python3/dist-packages (from dgp) (5.4.1)\n",
      "Requirement already satisfied: python-dateutil in /home/iiitd/.local/lib/python3.10/site-packages (from dgp) (2.8.2)\n",
      "Requirement already satisfied: dataflows>=0.3.20 in /home/iiitd/.local/lib/python3.10/site-packages (from dgp) (0.5.5)\n",
      "Requirement already satisfied: jinja2 in /home/iiitd/.local/lib/python3.10/site-packages (from dataflows>=0.3.20->dgp) (3.1.4)\n",
      "Requirement already satisfied: tableschema-sql>=2.0.1 in /home/iiitd/.local/lib/python3.10/site-packages (from dataflows>=0.3.20->dgp) (2.0.1)\n",
      "Requirement already satisfied: xmljson in /home/iiitd/.local/lib/python3.10/site-packages (from dataflows>=0.3.20->dgp) (0.2.1)\n",
      "Requirement already satisfied: openpyxl in /home/iiitd/.local/lib/python3.10/site-packages (from dataflows>=0.3.20->dgp) (3.1.4)\n",
      "Requirement already satisfied: dataflows-tabulator>=1.54.0 in /home/iiitd/.local/lib/python3.10/site-packages (from dataflows>=0.3.20->dgp) (1.54.3)\n",
      "Requirement already satisfied: click in /usr/lib/python3/dist-packages (from dataflows>=0.3.20->dgp) (8.0.3)\n",
      "Requirement already satisfied: kvfile>=1.1.1 in /home/iiitd/.local/lib/python3.10/site-packages (from dataflows>=0.3.20->dgp) (1.1.2)\n",
      "Requirement already satisfied: awesome-slugify in /home/iiitd/.local/lib/python3.10/site-packages (from dataflows>=0.3.20->dgp) (1.6.5)\n",
      "Requirement already satisfied: tabulate in /home/iiitd/.local/lib/python3.10/site-packages (from dataflows>=0.3.20->dgp) (0.9.0)\n",
      "Requirement already satisfied: bitstring>=3 in /home/iiitd/.local/lib/python3.10/site-packages (from dataflows>=0.3.20->dgp) (4.2.3)\n",
      "Requirement already satisfied: datapackage>=1.15.4 in /home/iiitd/.local/lib/python3.10/site-packages (from dataflows>=0.3.20->dgp) (1.15.4)\n",
      "Requirement already satisfied: tableschema>=1.20.11 in /home/iiitd/.local/lib/python3.10/site-packages (from dataflows>=0.3.20->dgp) (1.20.11)\n",
      "Requirement already satisfied: inquirer in /home/iiitd/.local/lib/python3.10/site-packages (from dataflows>=0.3.20->dgp) (3.2.5)\n",
      "Requirement already satisfied: six>=1.5 in /home/iiitd/.local/lib/python3.10/site-packages (from python-dateutil->dgp) (1.16.0)\n",
      "Requirement already satisfied: bitarray<3.0.0,>=2.9.0 in /home/iiitd/.local/lib/python3.10/site-packages (from bitstring>=3->dataflows>=0.3.20->dgp) (2.9.2)\n",
      "Requirement already satisfied: jsonlines>=1.1 in /home/iiitd/.local/lib/python3.10/site-packages (from dataflows-tabulator>=1.54.0->dataflows>=0.3.20->dgp) (4.0.0)\n",
      "Requirement already satisfied: sqlalchemy>=0.9.6 in /home/iiitd/.local/lib/python3.10/site-packages (from dataflows-tabulator>=1.54.0->dataflows>=0.3.20->dgp) (2.0.24)\n",
      "Requirement already satisfied: unicodecsv>=0.14 in /home/iiitd/.local/lib/python3.10/site-packages (from dataflows-tabulator>=1.54.0->dataflows>=0.3.20->dgp) (0.14.1)\n",
      "Requirement already satisfied: requests>=2.8 in /home/iiitd/.local/lib/python3.10/site-packages (from dataflows-tabulator>=1.54.0->dataflows>=0.3.20->dgp) (2.28.1)\n",
      "Requirement already satisfied: xlrd>=1.0 in /home/iiitd/.local/lib/python3.10/site-packages (from dataflows-tabulator>=1.54.0->dataflows>=0.3.20->dgp) (2.0.1)\n",
      "Requirement already satisfied: linear-tsv>=1.0 in /home/iiitd/.local/lib/python3.10/site-packages (from dataflows-tabulator>=1.54.0->dataflows>=0.3.20->dgp) (1.1.0)\n",
      "Requirement already satisfied: chardet>=3.0 in /usr/lib/python3/dist-packages (from dataflows-tabulator>=1.54.0->dataflows>=0.3.20->dgp) (4.0.0)\n",
      "Requirement already satisfied: boto3>=1.9 in /home/iiitd/.local/lib/python3.10/site-packages (from dataflows-tabulator>=1.54.0->dataflows>=0.3.20->dgp) (1.34.128)\n",
      "Requirement already satisfied: ijson>=3.0.3 in /home/iiitd/.local/lib/python3.10/site-packages (from dataflows-tabulator>=1.54.0->dataflows>=0.3.20->dgp) (3.3.0)\n",
      "Requirement already satisfied: jsonpointer>=1.10 in /home/iiitd/.local/lib/python3.10/site-packages (from datapackage>=1.15.4->dataflows>=0.3.20->dgp) (2.4)\n",
      "Requirement already satisfied: jsonschema>=2.5 in /home/iiitd/.local/lib/python3.10/site-packages (from datapackage>=1.15.4->dataflows>=0.3.20->dgp) (4.22.0)\n",
      "Requirement already satisfied: isodate in /home/iiitd/.local/lib/python3.10/site-packages (from kvfile>=1.1.1->dataflows>=0.3.20->dgp) (0.6.1)\n",
      "Requirement already satisfied: cachetools in /home/iiitd/.local/lib/python3.10/site-packages (from kvfile>=1.1.1->dataflows>=0.3.20->dgp) (5.3.3)\n",
      "Requirement already satisfied: et-xmlfile in /home/iiitd/.local/lib/python3.10/site-packages (from openpyxl->dataflows>=0.3.20->dgp) (1.1.0)\n",
      "Requirement already satisfied: cached-property>=1.5 in /home/iiitd/.local/lib/python3.10/site-packages (from tableschema>=1.20.11->dataflows>=0.3.20->dgp) (1.5.2)\n",
      "Requirement already satisfied: rfc3986>=1.1.0 in /home/iiitd/.local/lib/python3.10/site-packages (from tableschema>=1.20.11->dataflows>=0.3.20->dgp) (2.0.0)\n",
      "Requirement already satisfied: tabulator>=1.1 in /home/iiitd/.local/lib/python3.10/site-packages (from tableschema-sql>=2.0.1->dataflows>=0.3.20->dgp) (1.53.5)\n",
      "Requirement already satisfied: pybloom-live>=2.2 in /home/iiitd/.local/lib/python3.10/site-packages (from tableschema-sql>=2.0.1->dataflows>=0.3.20->dgp) (4.0.0)\n",
      "Requirement already satisfied: cryptography in /usr/lib/python3/dist-packages (from tableschema-sql>=2.0.1->dataflows>=0.3.20->dgp) (3.4.8)\n",
      "Requirement already satisfied: Unidecode<0.05,>=0.04.14 in /home/iiitd/.local/lib/python3.10/site-packages (from awesome-slugify->dataflows>=0.3.20->dgp) (0.4.21)\n",
      "Requirement already satisfied: regex in /home/iiitd/.local/lib/python3.10/site-packages (from awesome-slugify->dataflows>=0.3.20->dgp) (2024.5.15)\n",
      "Requirement already satisfied: blessed>=1.19.0 in /home/iiitd/.local/lib/python3.10/site-packages (from inquirer->dataflows>=0.3.20->dgp) (1.20.0)\n",
      "Requirement already satisfied: editor>=1.6.0 in /home/iiitd/.local/lib/python3.10/site-packages (from inquirer->dataflows>=0.3.20->dgp) (1.6.6)\n",
      "Requirement already satisfied: readchar>=3.0.6 in /home/iiitd/.local/lib/python3.10/site-packages (from inquirer->dataflows>=0.3.20->dgp) (4.1.0)\n",
      "Requirement already satisfied: MarkupSafe>=2.0 in /usr/lib/python3/dist-packages (from jinja2->dataflows>=0.3.20->dgp) (2.0.1)\n",
      "Requirement already satisfied: wcwidth>=0.1.4 in /home/iiitd/.local/lib/python3.10/site-packages (from blessed>=1.19.0->inquirer->dataflows>=0.3.20->dgp) (0.2.13)\n",
      "Requirement already satisfied: jmespath<2.0.0,>=0.7.1 in /home/iiitd/.local/lib/python3.10/site-packages (from boto3>=1.9->dataflows-tabulator>=1.54.0->dataflows>=0.3.20->dgp) (1.0.1)\n",
      "Requirement already satisfied: botocore<1.35.0,>=1.34.128 in /home/iiitd/.local/lib/python3.10/site-packages (from boto3>=1.9->dataflows-tabulator>=1.54.0->dataflows>=0.3.20->dgp) (1.34.128)\n",
      "Requirement already satisfied: s3transfer<0.11.0,>=0.10.0 in /home/iiitd/.local/lib/python3.10/site-packages (from boto3>=1.9->dataflows-tabulator>=1.54.0->dataflows>=0.3.20->dgp) (0.10.1)\n",
      "Requirement already satisfied: xmod in /home/iiitd/.local/lib/python3.10/site-packages (from editor>=1.6.0->inquirer->dataflows>=0.3.20->dgp) (1.8.1)\n",
      "Requirement already satisfied: runs in /home/iiitd/.local/lib/python3.10/site-packages (from editor>=1.6.0->inquirer->dataflows>=0.3.20->dgp) (1.2.2)\n",
      "Requirement already satisfied: attrs>=19.2.0 in /home/iiitd/.local/lib/python3.10/site-packages (from jsonlines>=1.1->dataflows-tabulator>=1.54.0->dataflows>=0.3.20->dgp) (23.2.0)\n",
      "Requirement already satisfied: referencing>=0.28.4 in /home/iiitd/.local/lib/python3.10/site-packages (from jsonschema>=2.5->datapackage>=1.15.4->dataflows>=0.3.20->dgp) (0.35.1)\n",
      "Requirement already satisfied: jsonschema-specifications>=2023.03.6 in /home/iiitd/.local/lib/python3.10/site-packages (from jsonschema>=2.5->datapackage>=1.15.4->dataflows>=0.3.20->dgp) (2023.12.1)\n",
      "Requirement already satisfied: rpds-py>=0.7.1 in /home/iiitd/.local/lib/python3.10/site-packages (from jsonschema>=2.5->datapackage>=1.15.4->dataflows>=0.3.20->dgp) (0.18.1)\n",
      "Requirement already satisfied: xxhash>=3.0.0 in /home/iiitd/.local/lib/python3.10/site-packages (from pybloom-live>=2.2->tableschema-sql>=2.0.1->dataflows>=0.3.20->dgp) (3.4.1)\n",
      "Requirement already satisfied: certifi>=2017.4.17 in /usr/lib/python3/dist-packages (from requests>=2.8->dataflows-tabulator>=1.54.0->dataflows>=0.3.20->dgp) (2020.6.20)\n",
      "Requirement already satisfied: urllib3<1.27,>=1.21.1 in /home/iiitd/.local/lib/python3.10/site-packages (from requests>=2.8->dataflows-tabulator>=1.54.0->dataflows>=0.3.20->dgp) (1.26.12)\n",
      "Requirement already satisfied: idna<4,>=2.5 in /home/iiitd/.local/lib/python3.10/site-packages (from requests>=2.8->dataflows-tabulator>=1.54.0->dataflows>=0.3.20->dgp) (3.4)\n",
      "Requirement already satisfied: charset-normalizer<3,>=2 in /home/iiitd/.local/lib/python3.10/site-packages (from requests>=2.8->dataflows-tabulator>=1.54.0->dataflows>=0.3.20->dgp) (2.1.1)\n",
      "Requirement already satisfied: typing-extensions>=4.2.0 in /home/iiitd/.local/lib/python3.10/site-packages (from sqlalchemy>=0.9.6->dataflows-tabulator>=1.54.0->dataflows>=0.3.20->dgp) (4.4.0)\n",
      "Requirement already satisfied: greenlet!=0.4.17 in /home/iiitd/.local/lib/python3.10/site-packages (from sqlalchemy>=0.9.6->dataflows-tabulator>=1.54.0->dataflows>=0.3.20->dgp) (3.0.3)\n"
     ]
    }
   ],
   "source": [
    "# error with load.pickle\n",
    "!pip install \"pandas<2.0.0\"\n",
    "!pip install dgb\n",
    "!pip install dgp"
   ]
  },
  {
   "cell_type": "markdown",
   "id": "c985992f",
   "metadata": {},
   "source": [
    "## Generating the ground truth adjacency matrix "
   ]
  },
  {
   "cell_type": "code",
   "execution_count": 56,
   "id": "c46efeee",
   "metadata": {},
   "outputs": [],
   "source": [
    "import networkx as nx\n",
    "import numpy as np\n",
    "# import dgb\n",
    "# import dgp\n",
    "import pickle\n",
    "import pandas as pd\n",
    "import matplotlib.pyplot as plt"
   ]
  },
  {
   "cell_type": "code",
   "execution_count": 57,
   "id": "8972178c",
   "metadata": {},
   "outputs": [
    {
     "data": {
      "text/plain": [
       "'/home/iiitd/impericalbayes/time-series-data-generation'"
      ]
     },
     "execution_count": 57,
     "metadata": {},
     "output_type": "execute_result"
    }
   ],
   "source": [
    "import os \n",
    "path = os.getcwd()\n",
    "path"
   ]
  },
  {
   "cell_type": "code",
   "execution_count": 58,
   "id": "087a315a",
   "metadata": {},
   "outputs": [],
   "source": [
    "filename = os.path.join(path, 'synthetic_datasets/data_3n_10ts_30N_graphs.gpickle')\n",
    "\n",
    "with open(filename, 'rb') as f:\n",
    "    graph = pickle.load(f)"
   ]
  },
  {
   "cell_type": "code",
   "execution_count": 59,
   "id": "ab833189",
   "metadata": {},
   "outputs": [],
   "source": [
    "num_time_slices = 10 #number of time slices in the folded dataset \n",
    "num_vars = 3 #number of variables per time slice"
   ]
  },
  {
   "cell_type": "code",
   "execution_count": 60,
   "id": "e01b0881",
   "metadata": {},
   "outputs": [],
   "source": [
    "#graph\n",
    "#graph.causal_graph.nodes\n",
    "#graph.causal_graph.edges"
   ]
  },
  {
   "cell_type": "code",
   "execution_count": 61,
   "id": "b0481fe3",
   "metadata": {},
   "outputs": [],
   "source": [
    "## Removing the noise variables from the graph\n",
    "node_list = [node for node in graph.causal_graph.nodes if not node.startswith('S')]  \n",
    "# No edges originating from noise.\n",
    "edge_list = [edge for edge in graph.causal_graph.edges if not edge[0].startswith('S')]"
   ]
  },
  {
   "cell_type": "code",
   "execution_count": 62,
   "id": "b55c8b38",
   "metadata": {},
   "outputs": [],
   "source": [
    "L = graph.get_feature_nodes() + graph.get_target_nodes()"
   ]
  },
  {
   "cell_type": "code",
   "execution_count": 63,
   "id": "b6b8d460",
   "metadata": {},
   "outputs": [],
   "source": [
    "# renaming the nodes and edges \n",
    "\n",
    "renamed_nodes = []\n",
    "for node in L:\n",
    "    if node.endswith('_t'):\n",
    "        renamed_node = node.replace('_t', f'_t_{num_time_slices-1}')\n",
    "    else: \n",
    "        for i in range(1, num_time_slices): \n",
    "            if node.endswith(f'_t{-i}'):\n",
    "                renamed_node = node.replace(f'_t{-i}', f'_t_{-i+num_time_slices-1}')\n",
    "    \n",
    "    renamed_nodes.append(renamed_node)\n",
    "\n",
    "renamed_edges = []\n",
    "for tuple in edge_list:\n",
    "    renamed_edge = ()\n",
    "    for node in tuple:\n",
    "        if node.endswith('_t'):\n",
    "            renamed_node = node.replace('_t', f'_t_{num_time_slices-1}')\n",
    "        else: \n",
    "            for i in range(1, num_time_slices): \n",
    "                if node.endswith(f'_t{-i}'):\n",
    "                    renamed_node = node.replace(f'_t{-i}', f'_t_{-i+num_time_slices-1}')\n",
    "        renamed_edge = renamed_edge+(renamed_node,)\n",
    "    renamed_edges.append(renamed_edge)\n"
   ]
  },
  {
   "cell_type": "code",
   "execution_count": 64,
   "id": "abb1dd23",
   "metadata": {},
   "outputs": [],
   "source": [
    "G_new = nx.DiGraph()\n",
    "G_new.add_nodes_from(renamed_nodes)\n",
    "G_new.add_edges_from(renamed_edges)"
   ]
  },
  {
   "cell_type": "code",
   "execution_count": 65,
   "id": "bf9eaf5c",
   "metadata": {},
   "outputs": [
    {
     "data": {
      "image/png": "[encoded data removed]",
      "text/plain": [
       "<Figure size 640x480 with 1 Axes>"
      ]
     },
     "metadata": {},
     "output_type": "display_data"
    }
   ],
   "source": [
    "nx.draw_networkx(G_new)"
   ]
  },
  {
   "cell_type": "markdown",
   "id": "33012fe2",
   "metadata": {},
   "source": [
    "The adjacency matrix needs to have the same variables order as the data "
   ]
  },
  {
   "cell_type": "code",
   "execution_count": 66,
   "id": "4f263d3b",
   "metadata": {},
   "outputs": [],
   "source": [
    "data_dbn_format = pd.read_csv(os.path.join(path, 'synthetic_datasets/data_3n_10ts_30N.csv'))\n",
    "order_from_datafile = list(data_dbn_format.columns)"
   ]
  },
  {
   "cell_type": "code",
   "execution_count": 67,
   "id": "190caf81",
   "metadata": {},
   "outputs": [],
   "source": [
    "# getting the graph's adj matrix with the right order from the data \n",
    "m = nx.adjacency_matrix(G_new, nodelist=order_from_datafile[-num_vars*2:])\n",
    "adj = m.todense()"
   ]
  },
  {
   "cell_type": "code",
   "execution_count": 68,
   "id": "991098cf",
   "metadata": {},
   "outputs": [],
   "source": [
    "adj_mat_prior = adj[:num_vars,:num_vars]\n",
    "adj_mat_transition = adj[:num_vars, num_vars:2*num_vars]"
   ]
  },
  {
   "cell_type": "code",
   "execution_count": 69,
   "id": "03df04d6",
   "metadata": {},
   "outputs": [],
   "source": [
    "# under the stationary assumption\n",
    "adj_final = np.zeros((num_vars*num_time_slices, num_vars*num_time_slices))\n",
    "\n",
    "for k in range(num_time_slices):\n",
    "    #filling the prior matrix\n",
    "    adj_final[num_vars*k:num_vars*(k+1),num_vars*k:num_vars*(k+1)] = adj_mat_prior \n",
    "    #the transition \n",
    "    if k < num_time_slices - 1:\n",
    "        adj_final[num_vars*k:num_vars*(k+1),num_vars*(k+1):num_vars*(k+2)] = adj_mat_transition"
   ]
  },
  {
   "cell_type": "code",
   "execution_count": 70,
   "id": "aebc57bf",
   "metadata": {},
   "outputs": [],
   "source": [
    "pd.DataFrame(adj_final).to_csv(os.path.join(path, 'synthetic_datasets/adj_3n_10ts_30N.csv'))"
   ]
  },
  {
   "cell_type": "code",
   "execution_count": null,
   "id": "08062a4c",
   "metadata": {},
   "outputs": [],
   "source": []
  }
 ],
 "metadata": {
  "kernelspec": {
   "display_name": "Python 3 (ipykernel)",
   "language": "python",
   "name": "python3"
  },
  "language_info": {
   "codemirror_mode": {
    "name": "ipython",
    "version": 3
   },
   "file_extension": ".py",
   "mimetype": "text/x-python",
   "name": "python",
   "nbconvert_exporter": "python",
   "pygments_lexer": "ipython3",
   "version": "3.10.12"
  }
 },
 "nbformat": 4,
 "nbformat_minor": 5
}
